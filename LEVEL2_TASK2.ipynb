{
 "cells": [
  {
   "cell_type": "markdown",
   "id": "392b94e5-0514-4ceb-b62f-031c18c9b1ed",
   "metadata": {},
   "source": [
    "<p style=\"font-size:30px;\">\n",
    "Level 2"
   ]
  },
  {
   "cell_type": "markdown",
   "id": "ee590a44-37b6-4ea9-b101-65dee795990b",
   "metadata": {},
   "source": [
    "<p style=\"font-size:30px;\">\n",
    "Task 2: Cuisine Combination"
   ]
  },
  {
   "cell_type": "code",
   "execution_count": 1,
   "id": "10ec1634-a85a-4f1d-9ffe-cb60d42aec44",
   "metadata": {},
   "outputs": [],
   "source": [
    "import pandas as pd\n",
    "import matplotlib.pyplot as plt"
   ]
  },
  {
   "cell_type": "code",
   "execution_count": 2,
   "id": "a92e91c8-c8a8-428b-a436-682132e1335d",
   "metadata": {},
   "outputs": [],
   "source": [
    "# Use absolute path to load the CSV file\n",
    "file_path = r\"C:\\Users\\tarun\\Desktop\\Python\\Dataset .csv\"\n",
    "# Load the dataset \n",
    "df = pd.read_csv(\"Dataset .csv\")"
   ]
  },
  {
   "cell_type": "markdown",
   "id": "f11711ea-9bb0-413b-bedb-6d4834117fe0",
   "metadata": {},
   "source": [
    "<p style=\"font-size:20px;\">\n",
    "Identify the most common combinations of cuisines in the dataset."
   ]
  },
  {
   "cell_type": "code",
   "execution_count": 3,
   "id": "380bfdc6-33c4-4772-8084-ed5417642141",
   "metadata": {},
   "outputs": [],
   "source": [
    "cuisines = df[\"Cuisines\"]\n",
    "aggregated_ratings = df[\"Aggregate rating\"]"
   ]
  },
  {
   "cell_type": "code",
   "execution_count": 4,
   "id": "20a100c5-7f8d-42be-87d6-354a0a1b0714",
   "metadata": {},
   "outputs": [],
   "source": [
    "cuisine_comb_counts = cuisines.value_counts()"
   ]
  },
  {
   "cell_type": "code",
   "execution_count": 5,
   "id": "676af2a5-41de-435b-9b81-09ead7dbe6fa",
   "metadata": {},
   "outputs": [],
   "source": [
    "most_comm_cuisines = cuisine_comb_counts [0:10]"
   ]
  },
  {
   "cell_type": "code",
   "execution_count": 6,
   "id": "ff23dbe4-76b2-45c1-a1a1-e4d265d46ea7",
   "metadata": {},
   "outputs": [
    {
     "name": "stdout",
     "output_type": "stream",
     "text": [
      "Cuisines\n",
      "North Indian                      936\n",
      "North Indian, Chinese             511\n",
      "Chinese                           354\n",
      "Fast Food                         354\n",
      "North Indian, Mughlai             334\n",
      "Cafe                              299\n",
      "Bakery                            218\n",
      "North Indian, Mughlai, Chinese    197\n",
      "Bakery, Desserts                  170\n",
      "Street Food                       149\n",
      "Name: count, dtype: int64\n"
     ]
    }
   ],
   "source": [
    "print(most_comm_cuisines)"
   ]
  },
  {
   "cell_type": "markdown",
   "id": "47660dbc-716c-424c-b462-7cc079a0cd63",
   "metadata": {},
   "source": [
    "<p style=\"font-size:20px;\">\n",
    "Determine if certain cuisine combinations tend to have higher ratings."
   ]
  },
  {
   "cell_type": "code",
   "execution_count": 7,
   "id": "0c3ae10c-8d9c-4379-85fb-a442c16fcd28",
   "metadata": {},
   "outputs": [],
   "source": [
    "cuisine_comb_avg_rating = df.groupby(\"Cuisines\")[\"Aggregate rating\"].mean()"
   ]
  },
  {
   "cell_type": "code",
   "execution_count": 8,
   "id": "8aa84f3b-2437-470c-8566-6cecbf11d3f6",
   "metadata": {},
   "outputs": [
    {
     "name": "stdout",
     "output_type": "stream",
     "text": [
      "Cuisines\n",
      "American, BBQ, Sandwich         4.9\n",
      "American, Burger, Grill         4.9\n",
      "American, Caribbean, Seafood    4.9\n",
      "American, Coffee and Tea        4.9\n",
      "American, Sandwich, Tea         4.9\n",
      "BBQ, Breakfast, Southern        4.9\n",
      "Burger, Bar Food, Steak         4.9\n",
      "Continental, Indian             4.9\n",
      "European, Asian, Indian         4.9\n",
      "European, Contemporary          4.9\n",
      "Name: Aggregate rating, dtype: float64\n"
     ]
    }
   ],
   "source": [
    "top_rating = cuisine_comb_avg_rating.nlargest(10)\n",
    "print(top_rating)"
   ]
  },
  {
   "cell_type": "code",
   "execution_count": null,
   "id": "e4297489-193a-4e31-b7c1-aac6082b1479",
   "metadata": {},
   "outputs": [],
   "source": []
  }
 ],
 "metadata": {
  "kernelspec": {
   "display_name": "Python 3 (ipykernel)",
   "language": "python",
   "name": "python3"
  },
  "language_info": {
   "codemirror_mode": {
    "name": "ipython",
    "version": 3
   },
   "file_extension": ".py",
   "mimetype": "text/x-python",
   "name": "python",
   "nbconvert_exporter": "python",
   "pygments_lexer": "ipython3",
   "version": "3.12.4"
  }
 },
 "nbformat": 4,
 "nbformat_minor": 5
}
