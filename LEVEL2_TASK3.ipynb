{
 "cells": [
  {
   "cell_type": "markdown",
   "id": "a8e001dc-3fa1-4b2b-a3e7-b52fabdc0e14",
   "metadata": {},
   "source": [
    "<p style=\"font-size:30px;\">\n",
    "Level 2"
   ]
  },
  {
   "cell_type": "markdown",
   "id": "c4d63a0f-6af6-4198-a61e-6c5a25416c40",
   "metadata": {},
   "source": [
    "<p style=\"font-size:30px;\">\n",
    "Task 3: Geographic Analysis"
   ]
  },
  {
   "cell_type": "code",
   "execution_count": 2,
   "id": "bc8d785e-9bb6-4939-99f5-5b7bfd1b92b0",
   "metadata": {},
   "outputs": [
    {
     "name": "stdout",
     "output_type": "stream",
     "text": [
      "Defaulting to user installation because normal site-packages is not writeable\n",
      "Requirement already satisfied: folium in c:\\users\\tarun\\appdata\\local\\packages\\pythonsoftwarefoundation.python.3.12_qbz5n2kfra8p0\\localcache\\local-packages\\python312\\site-packages (0.17.0)\n",
      "Requirement already satisfied: branca>=0.6.0 in c:\\users\\tarun\\appdata\\local\\packages\\pythonsoftwarefoundation.python.3.12_qbz5n2kfra8p0\\localcache\\local-packages\\python312\\site-packages (from folium) (0.7.2)\n",
      "Requirement already satisfied: jinja2>=2.9 in c:\\users\\tarun\\appdata\\local\\packages\\pythonsoftwarefoundation.python.3.12_qbz5n2kfra8p0\\localcache\\local-packages\\python312\\site-packages (from folium) (3.1.4)\n",
      "Requirement already satisfied: numpy in c:\\users\\tarun\\appdata\\local\\packages\\pythonsoftwarefoundation.python.3.12_qbz5n2kfra8p0\\localcache\\local-packages\\python312\\site-packages (from folium) (2.0.0)\n",
      "Requirement already satisfied: requests in c:\\users\\tarun\\appdata\\local\\packages\\pythonsoftwarefoundation.python.3.12_qbz5n2kfra8p0\\localcache\\local-packages\\python312\\site-packages (from folium) (2.32.3)\n",
      "Requirement already satisfied: xyzservices in c:\\users\\tarun\\appdata\\local\\packages\\pythonsoftwarefoundation.python.3.12_qbz5n2kfra8p0\\localcache\\local-packages\\python312\\site-packages (from folium) (2024.6.0)\n",
      "Requirement already satisfied: MarkupSafe>=2.0 in c:\\users\\tarun\\appdata\\local\\packages\\pythonsoftwarefoundation.python.3.12_qbz5n2kfra8p0\\localcache\\local-packages\\python312\\site-packages (from jinja2>=2.9->folium) (2.1.5)\n",
      "Requirement already satisfied: charset-normalizer<4,>=2 in c:\\users\\tarun\\appdata\\local\\packages\\pythonsoftwarefoundation.python.3.12_qbz5n2kfra8p0\\localcache\\local-packages\\python312\\site-packages (from requests->folium) (3.3.2)\n",
      "Requirement already satisfied: idna<4,>=2.5 in c:\\users\\tarun\\appdata\\local\\packages\\pythonsoftwarefoundation.python.3.12_qbz5n2kfra8p0\\localcache\\local-packages\\python312\\site-packages (from requests->folium) (3.7)\n",
      "Requirement already satisfied: urllib3<3,>=1.21.1 in c:\\users\\tarun\\appdata\\local\\packages\\pythonsoftwarefoundation.python.3.12_qbz5n2kfra8p0\\localcache\\local-packages\\python312\\site-packages (from requests->folium) (2.2.2)\n",
      "Requirement already satisfied: certifi>=2017.4.17 in c:\\users\\tarun\\appdata\\local\\packages\\pythonsoftwarefoundation.python.3.12_qbz5n2kfra8p0\\localcache\\local-packages\\python312\\site-packages (from requests->folium) (2024.6.2)\n",
      "Note: you may need to restart the kernel to use updated packages.\n"
     ]
    }
   ],
   "source": [
    "pip install folium"
   ]
  },
  {
   "cell_type": "code",
   "execution_count": 3,
   "id": "9ccd91a6-859a-425b-afdb-9ad26036fdb5",
   "metadata": {},
   "outputs": [],
   "source": [
    "import pandas as pd\n",
    "import folium"
   ]
  },
  {
   "cell_type": "code",
   "execution_count": 4,
   "id": "431a00c4-8b78-4cbf-91ba-d6b7adf90a34",
   "metadata": {},
   "outputs": [],
   "source": [
    "# Use absolute path to load the CSV file\n",
    "file_path = r\"C:\\Users\\tarun\\Desktop\\Python\\Dataset .csv\"\n",
    "\n",
    "# Load the dataset \n",
    "df = pd.read_csv(\"Dataset .csv\")"
   ]
  },
  {
   "cell_type": "markdown",
   "id": "900f8f9e-3e79-4cc6-9e87-cb9c2a4754e8",
   "metadata": {},
   "source": [
    "<p style=\"font-size:20px;\">\n",
    "Plot the locations of restaurants on a map using longitude and latitude coordinates.\n",
    "Identify any patterns or clusters of restaurants in specific areas."
   ]
  },
  {
   "cell_type": "code",
   "execution_count": 5,
   "id": "bdb04739-7f7e-40eb-a38e-20e696f401ed",
   "metadata": {},
   "outputs": [],
   "source": [
    "# Drop rows with missing latitude or longitude\n",
    "df.dropna(subset=['Latitude', 'Longitude'], inplace=True)\n"
   ]
  },
  {
   "cell_type": "code",
   "execution_count": 6,
   "id": "89663461-5836-4c0a-abcf-7ca2d5c2976c",
   "metadata": {},
   "outputs": [],
   "source": [
    "# Initialize the map centered around the mean of coordinates\n",
    "map_center = [df['Latitude'].mean(), df['Longitude'].mean()]\n",
    "mymap = folium.Map(location=map_center, zoom_start=12)"
   ]
  },
  {
   "cell_type": "code",
   "execution_count": 7,
   "id": "49668aad-a4c1-444b-9306-61f5b0bbe18e",
   "metadata": {},
   "outputs": [],
   "source": [
    "# Add markers for each restaurant\n",
    "for index, row in df.iterrows():\n",
    "    popup_text = f\"{row['Restaurant Name']}\\n{row['Address']}\"\n",
    "    folium.Marker([row['Latitude'], row['Longitude']], popup=popup_text).add_to(mymap)"
   ]
  },
  {
   "cell_type": "code",
   "execution_count": 9,
   "id": "baffda1d-e17a-4506-90dc-6a2af8b1dc8e",
   "metadata": {},
   "outputs": [],
   "source": [
    "# Display the map\n",
    "#mymap"
   ]
  },
  {
   "cell_type": "code",
   "execution_count": null,
   "id": "7d323d2d-2069-41ea-b481-a1e1351014a8",
   "metadata": {},
   "outputs": [],
   "source": []
  }
 ],
 "metadata": {
  "kernelspec": {
   "display_name": "Python 3 (ipykernel)",
   "language": "python",
   "name": "python3"
  },
  "language_info": {
   "codemirror_mode": {
    "name": "ipython",
    "version": 3
   },
   "file_extension": ".py",
   "mimetype": "text/x-python",
   "name": "python",
   "nbconvert_exporter": "python",
   "pygments_lexer": "ipython3",
   "version": "3.12.4"
  }
 },
 "nbformat": 4,
 "nbformat_minor": 5
}
