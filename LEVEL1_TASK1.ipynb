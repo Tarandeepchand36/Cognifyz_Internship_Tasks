{
 "cells": [
  {
   "cell_type": "markdown",
   "id": "e6f551bb-0a63-4890-9d17-4c21af6fda8c",
   "metadata": {},
   "source": [
    "<p style=\"font-size:30px;\">\n",
    "Level 1"
   ]
  },
  {
   "cell_type": "markdown",
   "id": "9e9e53ec-8255-42cf-ab02-86e63e64f9a9",
   "metadata": {},
   "source": [
    "<p style=\"font-size:30px;\">\n",
    "Task 1: Top Cuisines\n",
    "\n"
   ]
  },
  {
   "cell_type": "code",
   "execution_count": 2,
   "id": "8974f212-591f-4962-897e-4f568a6345a6",
   "metadata": {},
   "outputs": [],
   "source": [
    "import pandas as pd\n",
    "\n",
    "# Use absolute path to load the CSV file\n",
    "file_path = r\"C:\\Users\\tarun\\Desktop\\Python\\Dataset .csv\""
   ]
  },
  {
   "cell_type": "code",
   "execution_count": 3,
   "id": "89359494-8293-4153-9f79-318008c6e43a",
   "metadata": {},
   "outputs": [],
   "source": [
    "# Load the dataset \n",
    "df = pd.read_csv(\"Dataset .csv\")"
   ]
  },
  {
   "cell_type": "markdown",
   "id": "02aad03d-7627-42a3-8eb6-7f1bac1d08c0",
   "metadata": {},
   "source": [
    "<p style=\"font-size:20px;\">\n",
    "Determine the top three most common cuisines in the dataset."
   ]
  },
  {
   "cell_type": "code",
   "execution_count": 4,
   "id": "cf6d84d5-3fb2-4f5d-8e78-936d87ce860d",
   "metadata": {},
   "outputs": [],
   "source": [
    "# Count the occurrences of each cuisine\n",
    "cuisine_data = df[\"Cuisines\"]\n",
    "cuisine_count = cuisine_data.value_counts()"
   ]
  },
  {
   "cell_type": "code",
   "execution_count": 5,
   "id": "687757d2-469f-4858-87c1-69e237f377a4",
   "metadata": {},
   "outputs": [],
   "source": [
    "# Extract top three most common cuisines\n",
    "top_cuisines = cuisine_count.head(3)"
   ]
  },
  {
   "cell_type": "code",
   "execution_count": 11,
   "id": "c627672f-6fe9-4d8f-ab0c-62453e8a1e28",
   "metadata": {},
   "outputs": [
    {
     "name": "stdout",
     "output_type": "stream",
     "text": [
      "Top Three Most Common Cuisines:\n",
      "Cuisines\n",
      "North Indian             936\n",
      "North Indian, Chinese    511\n",
      "Chinese                  354\n",
      "Name: count, dtype: int64\n"
     ]
    }
   ],
   "source": [
    "# Print the results\n",
    "print(\"Top Three Most Common Cuisines:\")\n",
    "print(top_cuisines)"
   ]
  },
  {
   "cell_type": "markdown",
   "id": "c7e597e2-a37e-423f-a68a-91a1de6284ee",
   "metadata": {},
   "source": [
    "<p style=\"font-size:20px;\">\n",
    "Calculate the percentage of restaurants that serve each of the top cuisines."
   ]
  },
  {
   "cell_type": "code",
   "execution_count": 10,
   "id": "0fb12566-be86-46fe-a4dc-91bacb2b3835",
   "metadata": {},
   "outputs": [
    {
     "name": "stdout",
     "output_type": "stream",
     "text": [
      "\n",
      "Percentage of Restaurants Serving Each Cuisine:\n",
      "Cuisines\n",
      "North Indian             9.800021\n",
      "North Indian, Chinese    5.350225\n",
      "Chinese                  3.706418\n",
      "Name: count, dtype: float64\n"
     ]
    }
   ],
   "source": [
    "# Calculate percentage of restaurants serving each cuisine\n",
    "total_restaurants = len(df)\n",
    "percentage_per_cuisine = (top_cuisines / total_restaurants) * 100\n",
    "\n",
    "print(\"\\nPercentage of Restaurants Serving Each Cuisine:\")\n",
    "print(percentage_per_cuisine)"
   ]
  },
  {
   "cell_type": "code",
   "execution_count": null,
   "id": "195148fe-06a7-43d8-9b19-deb27e90b445",
   "metadata": {},
   "outputs": [],
   "source": []
  }
 ],
 "metadata": {
  "kernelspec": {
   "display_name": "Python 3 (ipykernel)",
   "language": "python",
   "name": "python3"
  },
  "language_info": {
   "codemirror_mode": {
    "name": "ipython",
    "version": 3
   },
   "file_extension": ".py",
   "mimetype": "text/x-python",
   "name": "python",
   "nbconvert_exporter": "python",
   "pygments_lexer": "ipython3",
   "version": "3.12.4"
  }
 },
 "nbformat": 4,
 "nbformat_minor": 5
}
