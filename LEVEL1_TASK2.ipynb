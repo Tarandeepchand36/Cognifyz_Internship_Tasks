{
 "cells": [
  {
   "cell_type": "markdown",
   "id": "82f5d2c4-80fc-4ad1-ab42-2a75404c3dec",
   "metadata": {},
   "source": [
    "<p style=\"font-size:30px;\">\n",
    "Level 1"
   ]
  },
  {
   "cell_type": "markdown",
   "id": "22daad93-6033-4106-bd06-163cf5187f36",
   "metadata": {},
   "source": [
    "<p style=\"font-size:30px;\">\n",
    "Task 2: City Analysis"
   ]
  },
  {
   "cell_type": "code",
   "execution_count": 8,
   "id": "a71bfdd1-125a-4d78-8a69-5082835b02f6",
   "metadata": {},
   "outputs": [],
   "source": [
    "import pandas as pd\n",
    "\n",
    "# Use absolute path to load the CSV file\n",
    "file_path = r\"C:\\Users\\tarun\\Desktop\\Python\\Dataset .csv\""
   ]
  },
  {
   "cell_type": "code",
   "execution_count": 9,
   "id": "a0f008d7-05e0-468c-bbca-b16851fcccf2",
   "metadata": {},
   "outputs": [],
   "source": [
    "# Load the dataset \n",
    "df = pd.read_csv(\"Dataset .csv\")"
   ]
  },
  {
   "cell_type": "markdown",
   "id": "3d8fe8cf-aa72-4403-b822-ca6600b9c104",
   "metadata": {},
   "source": [
    "<p style=\"font-size:20px;\">\n",
    "Identify the city with the highest number of restaurants in the dataset."
   ]
  },
  {
   "cell_type": "code",
   "execution_count": 10,
   "id": "159f37a7-1fd9-4df6-a1d0-6df961efca99",
   "metadata": {},
   "outputs": [],
   "source": [
    "# Count the occurrences of each city to find the number of restaurants\n",
    "city_data = df[\"City\"]\n",
    "city_count = city_data.value_counts()"
   ]
  },
  {
   "cell_type": "code",
   "execution_count": 11,
   "id": "6cf93568-9b7b-4487-850c-9fbd38142ca7",
   "metadata": {},
   "outputs": [
    {
     "name": "stdout",
     "output_type": "stream",
     "text": [
      "City with the highest number of restaurants in the dataset is:\n",
      "New Delhi\n",
      "5473\n"
     ]
    }
   ],
   "source": [
    "print(\"City with the highest number of restaurants in the dataset is:\")\n",
    "\n",
    "#prints the index label of the first row with the number of restaurants\n",
    "print(city_count.index[0])\n",
    "print(city_count.iloc[0])"
   ]
  },
  {
   "cell_type": "markdown",
   "id": "c7d5de19-6f52-495b-b150-f4b1eaa7f5b0",
   "metadata": {},
   "source": [
    "<p style=\"font-size:20px;\">\n",
    "Calculate the average rating for restaurants in each city and determine the city with the highest average rating."
   ]
  },
  {
   "cell_type": "code",
   "execution_count": 12,
   "id": "4516489f-96f9-4cb8-8649-62bed7e27124",
   "metadata": {},
   "outputs": [
    {
     "name": "stdout",
     "output_type": "stream",
     "text": [
      "City\n",
      "Abu Dhabi          4.300000\n",
      "Agra               3.965000\n",
      "Ahmedabad          4.161905\n",
      "Albany             3.555000\n",
      "Allahabad          3.395000\n",
      "                     ...   \n",
      "Weirton            3.900000\n",
      "Wellington City    4.250000\n",
      "Winchester Bay     3.200000\n",
      "Yorkton            3.300000\n",
      "��stanbul          4.292857\n",
      "Name: Aggregate rating, Length: 141, dtype: float64\n"
     ]
    }
   ],
   "source": [
    "#The average rating for restaurants in each city\n",
    "average_ratings = df.groupby('City')['Aggregate rating'].mean()\n",
    "print(average_ratings)"
   ]
  },
  {
   "cell_type": "code",
   "execution_count": 7,
   "id": "253b12c2-30be-47f8-8b21-7e861c217b7e",
   "metadata": {},
   "outputs": [
    {
     "name": "stdout",
     "output_type": "stream",
     "text": [
      "Abu Dhabi\n"
     ]
    }
   ],
   "source": [
    "#The city with the highest average rating\n",
    "print(average_ratings.index[0])"
   ]
  }
 ],
 "metadata": {
  "kernelspec": {
   "display_name": "Python 3 (ipykernel)",
   "language": "python",
   "name": "python3"
  },
  "language_info": {
   "codemirror_mode": {
    "name": "ipython",
    "version": 3
   },
   "file_extension": ".py",
   "mimetype": "text/x-python",
   "name": "python",
   "nbconvert_exporter": "python",
   "pygments_lexer": "ipython3",
   "version": "3.12.4"
  }
 },
 "nbformat": 4,
 "nbformat_minor": 5
}
