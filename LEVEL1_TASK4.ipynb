{
 "cells": [
  {
   "cell_type": "markdown",
   "id": "95292148-32b3-47be-a976-b16a3d79db7b",
   "metadata": {},
   "source": [
    "<p style=\"font-size:30px;\">\n",
    "Level 1"
   ]
  },
  {
   "cell_type": "markdown",
   "id": "6601a343-7101-4c13-83e1-b5042a87bc08",
   "metadata": {},
   "source": [
    "<p style=\"font-size:30px;\">\n",
    "Task4: Online Delivery"
   ]
  },
  {
   "cell_type": "code",
   "execution_count": 7,
   "id": "c14869ea-ef48-4deb-ae7b-4876a24f5cb7",
   "metadata": {},
   "outputs": [],
   "source": [
    "import pandas as pd\n",
    "\n",
    "# Use absolute path to load the CSV file\n",
    "file_path = r\"C:\\Users\\tarun\\Desktop\\Python\\Dataset .csv\"\n",
    "\n",
    "# Load the dataset \n",
    "df = pd.read_csv(\"Dataset .csv\")"
   ]
  },
  {
   "cell_type": "markdown",
   "id": "329c4eb4-ceb0-479e-9442-41913346a3ba",
   "metadata": {},
   "source": [
    "<p style=\"font-size:20px;\">\n",
    "Determine the percentage of restaurants that offer online delivery"
   ]
  },
  {
   "cell_type": "code",
   "execution_count": 8,
   "id": "7b8b0ff8-0847-43fd-ae29-41c0b2233b74",
   "metadata": {},
   "outputs": [],
   "source": [
    "# Count how many restaurants offer online delivery\n",
    "online_delivery_count = df['Has Online delivery'].value_counts()"
   ]
  },
  {
   "cell_type": "code",
   "execution_count": 9,
   "id": "d8a42ca5-6f00-4a95-9896-aee6bab9e6e4",
   "metadata": {},
   "outputs": [
    {
     "name": "stdout",
     "output_type": "stream",
     "text": [
      "Percentage of restaurants offering online delivery: 25.66%\n"
     ]
    }
   ],
   "source": [
    "# Calculate the percentage of restaurants offering online delivery\n",
    "total_restaurants = len(df)\n",
    "percentage_with_delivery = (online_delivery_count['Yes'] / total_restaurants) * 100\n",
    "print(f\"Percentage of restaurants offering online delivery: {percentage_with_delivery:.2f}%\")"
   ]
  },
  {
   "cell_type": "markdown",
   "id": "ff6373ec-a533-4db5-97de-7c967143529f",
   "metadata": {},
   "source": [
    "<p style=\"font-size:20px;\">\n",
    "Compare the average ratings of restaurants with and without online delivery."
   ]
  },
  {
   "cell_type": "code",
   "execution_count": 10,
   "id": "bcd34082-bedc-4149-be71-f45dde5c902d",
   "metadata": {},
   "outputs": [
    {
     "name": "stdout",
     "output_type": "stream",
     "text": [
      "Average rating for restaurants with online delivery: 3.25\n",
      "Average rating for restaurants without online delivery: 2.47\n"
     ]
    }
   ],
   "source": [
    "# Calculate average ratings for restaurants with and without online delivery\n",
    "average_with_delivery = df[df['Has Online delivery'] == 'Yes']['Aggregate rating'].mean()\n",
    "average_without_delivery = df[df['Has Online delivery'] == 'No']['Aggregate rating'].mean()\n",
    "\n",
    "print(f\"Average rating for restaurants with online delivery: {average_with_delivery:.2f}\")\n",
    "print(f\"Average rating for restaurants without online delivery: {average_without_delivery:.2f}\")"
   ]
  },
  {
   "cell_type": "code",
   "execution_count": null,
   "id": "661a7e4c-629c-49ad-b692-e2e13fcdf184",
   "metadata": {},
   "outputs": [],
   "source": []
  },
  {
   "cell_type": "code",
   "execution_count": null,
   "id": "adae84bb-0224-4029-a0af-f898ff131556",
   "metadata": {},
   "outputs": [],
   "source": []
  }
 ],
 "metadata": {
  "kernelspec": {
   "display_name": "Python 3 (ipykernel)",
   "language": "python",
   "name": "python3"
  },
  "language_info": {
   "codemirror_mode": {
    "name": "ipython",
    "version": 3
   },
   "file_extension": ".py",
   "mimetype": "text/x-python",
   "name": "python",
   "nbconvert_exporter": "python",
   "pygments_lexer": "ipython3",
   "version": "3.12.4"
  }
 },
 "nbformat": 4,
 "nbformat_minor": 5
}
